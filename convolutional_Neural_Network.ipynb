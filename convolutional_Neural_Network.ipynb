{
  "nbformat": 4,
  "nbformat_minor": 0,
  "metadata": {
    "colab": {
      "provenance": [],
      "gpuType": "T4",
      "authorship_tag": "ABX9TyP994938LZLhra/ru9IndbR",
      "include_colab_link": true
    },
    "kernelspec": {
      "name": "python3",
      "display_name": "Python 3"
    },
    "language_info": {
      "name": "python"
    },
    "accelerator": "GPU"
  },
  "cells": [
    {
      "cell_type": "markdown",
      "metadata": {
        "id": "view-in-github",
        "colab_type": "text"
      },
      "source": [
        "<a href=\"https://colab.research.google.com/github/Mohini-More/Machine-learning/blob/main/convolutional_Neural_Network.ipynb\" target=\"_parent\"><img src=\"https://colab.research.google.com/assets/colab-badge.svg\" alt=\"Open In Colab\"/></a>"
      ]
    },
    {
      "cell_type": "markdown",
      "source": [
        "**convolutional Neural Network**"
      ],
      "metadata": {
        "id": "s_IikwJfpXVV"
      }
    },
    {
      "cell_type": "code",
      "source": [
        "import numpy as np\n",
        "import pandas as pd\n",
        "import keras\n",
        "import tensorflow as tf"
      ],
      "metadata": {
        "id": "_QIVkdAApYw-"
      },
      "execution_count": 6,
      "outputs": []
    },
    {
      "cell_type": "code",
      "source": [
        "from tensorflow.keras.datasets import mnist\n",
        "from tensorflow.keras.models import Sequential\n",
        "from tensorflow.keras.layers import Dense\n",
        "from tensorflow.keras.utils import to_categorical\n"
      ],
      "metadata": {
        "id": "VMGeYtnHPWwh"
      },
      "execution_count": 5,
      "outputs": []
    },
    {
      "cell_type": "code",
      "source": [
        "import tensorflow as tf\n",
        "from tensorflow.python.client import device_lib\n",
        "print(device_lib.list_local_devices())"
      ],
      "metadata": {
        "colab": {
          "base_uri": "https://localhost:8080/"
        },
        "id": "t1g5v35SPMAe",
        "outputId": "5fa11231-ec7a-4fac-dfbb-df3c814578eb"
      },
      "execution_count": 7,
      "outputs": [
        {
          "output_type": "stream",
          "name": "stdout",
          "text": [
            "[name: \"/device:CPU:0\"\n",
            "device_type: \"CPU\"\n",
            "memory_limit: 268435456\n",
            "locality {\n",
            "}\n",
            "incarnation: 16326956397316107025\n",
            "xla_global_id: -1\n",
            ", name: \"/device:GPU:0\"\n",
            "device_type: \"GPU\"\n",
            "memory_limit: 14626652160\n",
            "locality {\n",
            "  bus_id: 1\n",
            "  links {\n",
            "  }\n",
            "}\n",
            "incarnation: 6373525481702252581\n",
            "physical_device_desc: \"device: 0, name: Tesla T4, pci bus id: 0000:00:04.0, compute capability: 7.5\"\n",
            "xla_global_id: 416903419\n",
            "]\n"
          ]
        }
      ]
    },
    {
      "cell_type": "code",
      "source": [
        "(x_train,y_train),(x_test,y_test)=mnist.load_data()\n"
      ],
      "metadata": {
        "colab": {
          "base_uri": "https://localhost:8080/"
        },
        "id": "M6HwghfCPRnW",
        "outputId": "37a77e48-d329-48db-ca95-bdd60d72514a"
      },
      "execution_count": 8,
      "outputs": [
        {
          "output_type": "stream",
          "name": "stdout",
          "text": [
            "Downloading data from https://storage.googleapis.com/tensorflow/tf-keras-datasets/mnist.npz\n",
            "11490434/11490434 [==============================] - 0s 0us/step\n"
          ]
        }
      ]
    },
    {
      "cell_type": "code",
      "source": [
        "import matplotlib.pyplot as plt\n",
        "n=10\n",
        "plt.figure(figsize=(20,4))\n",
        "for i in range(n):\n",
        "  ax=plt.subplot(2, n, i+1)\n",
        "  plt.imshow(x_test[i].reshape(28,28))\n",
        "  plt.gray()\n",
        "  ax.get_xaxis().set_visible(False)\n",
        "  ax.get_yaxis().set_visible(False)\n",
        "\n",
        "  plt.show()\n",
        "  plt.close()"
      ],
      "metadata": {
        "colab": {
          "base_uri": "https://localhost:8080/",
          "height": 726
        },
        "id": "6Gh-qieYPdK1",
        "outputId": "31abd89a-61fb-4761-ee04-b9f2176ceb7b"
      },
      "execution_count": 9,
      "outputs": [
        {
          "output_type": "display_data",
          "data": {
            "text/plain": [
              "<Figure size 2000x400 with 1 Axes>"
            ],
            "image/png": "[encoded data removed]"
          },
          "metadata": {}
        },
        {
          "output_type": "display_data",
          "data": {
            "text/plain": [
              "<Figure size 640x480 with 1 Axes>"
            ],
            "image/png": "[encoded data removed]"
          },
          "metadata": {}
        },
        {
          "output_type": "display_data",
          "data": {
            "text/plain": [
              "<Figure size 640x480 with 1 Axes>"
            ],
            "image/png": "[encoded data removed]"
          },
          "metadata": {}
        },
        {
          "output_type": "display_data",
          "data": {
            "text/plain": [
              "<Figure size 640x480 with 1 Axes>"
            ],
            "image/png": "[encoded data removed]"
          },
          "metadata": {}
        },
        {
          "output_type": "display_data",
          "data": {
            "text/plain": [
              "<Figure size 640x480 with 1 Axes>"
            ],
            "image/png": "[encoded data removed]"
          },
          "metadata": {}
        },
        {
          "output_type": "display_data",
          "data": {
            "text/plain": [
              "<Figure size 640x480 with 1 Axes>"
            ],
            "image/png": "[encoded data removed]"
          },
          "metadata": {}
        },
        {
          "output_type": "display_data",
          "data": {
            "text/plain": [
              "<Figure size 640x480 with 1 Axes>"
            ],
            "image/png": "[encoded data removed]"
          },
          "metadata": {}
        },
        {
          "output_type": "display_data",
          "data": {
            "text/plain": [
              "<Figure size 640x480 with 1 Axes>"
            ],
            "image/png": "[encoded data removed]"
          },
          "metadata": {}
        },
        {
          "output_type": "display_data",
          "data": {
            "text/plain": [
              "<Figure size 640x480 with 1 Axes>"
            ],
            "image/png": "[encoded data removed]"
          },
          "metadata": {}
        },
        {
          "output_type": "display_data",
          "data": {
            "text/plain": [
              "<Figure size 640x480 with 1 Axes>"
            ],
            "image/png": "[encoded data removed]"
          },
          "metadata": {}
        }
      ]
    },
    {
      "cell_type": "code",
      "source": [
        "print('x_train shape',x_train.shape)\n",
        "print('y_train shape',y_train.shape)\n",
        "print('x_test shape',x_test.shape)\n",
        "print('y_test shape',y_test.shape)"
      ],
      "metadata": {
        "colab": {
          "base_uri": "https://localhost:8080/"
        },
        "id": "RCATyYSvPheF",
        "outputId": "ff174f68-01cb-4172-8d7f-d73ca6aa2a3d"
      },
      "execution_count": 10,
      "outputs": [
        {
          "output_type": "stream",
          "name": "stdout",
          "text": [
            "x_train shape (60000, 28, 28)\n",
            "y_train shape (60000,)\n",
            "x_test shape (10000, 28, 28)\n",
            "y_test shape (10000,)\n"
          ]
        }
      ]
    },
    {
      "cell_type": "code",
      "source": [
        "x_train=x_train.reshape(x_train.shape[0],28,28,1)\n",
        "x_test=x_test.reshape(x_test.shape[0],28,28,1)"
      ],
      "metadata": {
        "id": "fXN3wghfPotr"
      },
      "execution_count": 11,
      "outputs": []
    },
    {
      "cell_type": "code",
      "source": [
        "x_train=x_train.astype('float32')\n",
        "x_test=x_test.astype('float32')\n",
        "\n",
        "\n",
        "x_train /=255\n",
        "x_test /=255\n"
      ],
      "metadata": {
        "id": "790nSpYePscV"
      },
      "execution_count": 12,
      "outputs": []
    },
    {
      "cell_type": "code",
      "source": [
        "classes=10\n",
        "y_train=to_categorical(y_train,classes)\n",
        "y_test=to_categorical(y_test,classes)\n",
        "\n",
        "#seeling update shape\n",
        "print('x_train shape',x_train.shape)\n",
        "print('y_train shape',y_train.shape)\n",
        "print('x_test shape',x_test.shape)\n",
        "print('y_test shape',y_test.shape)\n"
      ],
      "metadata": {
        "colab": {
          "base_uri": "https://localhost:8080/"
        },
        "id": "NGaRsbKxPxXI",
        "outputId": "4f1d4cde-2476-41ce-b622-e751ef589fe9"
      },
      "execution_count": 13,
      "outputs": [
        {
          "output_type": "stream",
          "name": "stdout",
          "text": [
            "x_train shape (60000, 28, 28, 1)\n",
            "y_train shape (60000, 10)\n",
            "x_test shape (10000, 28, 28, 1)\n",
            "y_test shape (10000, 10)\n"
          ]
        }
      ]
    },
    {
      "cell_type": "markdown",
      "source": [
        "**Building the CNN**"
      ],
      "metadata": {
        "id": "FWHKDPuUP9Bg"
      }
    },
    {
      "cell_type": "code",
      "source": [
        "from keras.models import Sequential\n",
        "from keras.layers import Dense, Flatten, Conv2D, MaxPooling2D"
      ],
      "metadata": {
        "id": "BKGRbJFpReDM"
      },
      "execution_count": 14,
      "outputs": []
    },
    {
      "cell_type": "code",
      "source": [
        "img_rows ,img_cols , channels=28,28,1\n",
        "filters=[6,32,80,120]\n",
        "\n",
        "classes=10"
      ],
      "metadata": {
        "id": "Fyy9agg6Sep8"
      },
      "execution_count": 15,
      "outputs": []
    },
    {
      "cell_type": "code",
      "source": [
        "#create model\n",
        "model=Sequential()\n",
        "model.add(Conv2D(filters[0],(3,3),padding='same' , activation='relu' ,input_shape=(img_rows ,img_cols , channels) ))\n",
        "model.add(MaxPooling2D(pool_size=(2,2))) #for reducing image size\n",
        "#(dim + pad-kernel)/2 (28 +3 -3)/ 2 =14\n",
        "model.add(Conv2D(filters[1],(2,2),padding='same' , activation='relu'  ))\n",
        "model.add(MaxPooling2D(pool_size=(2,2)))\n",
        "#(dim + pad-kernel)/2 (14+2 -2)/ 2 =7\n",
        "model.add(Conv2D(filters[2],(2,2),padding='same' , activation='relu'  ))\n",
        "model.add(MaxPooling2D(pool_size=(2,2)))\n",
        "#(dim + pad-kernel)/2 (7+2 -2)/ 2 =3\n",
        "model.add(Conv2D(filters[3],(2,2),padding='same' , activation='relu'  ))\n",
        "model.add(MaxPooling2D(pool_size=(2,2)))\n",
        "#(dim + pad-kernel)/2 (3+2 -2)/ 2 =1\n",
        "model.add(Flatten())\n",
        "model.add(Dense(64,activation='relu'))\n",
        "model.add(Dense(classes,activation='softmax'))\n",
        "model.compile(loss='categorical_crossentropy', optimizer='sgd', metrics=['accuracy'])\n"
      ],
      "metadata": {
        "id": "DscKR2XVUHtw"
      },
      "execution_count": 16,
      "outputs": []
    },
    {
      "cell_type": "code",
      "source": [
        "model.summary()"
      ],
      "metadata": {
        "colab": {
          "base_uri": "https://localhost:8080/"
        },
        "id": "bZOH8SEnYA0-",
        "outputId": "e14a395a-0141-49da-b8fd-9062dad56fd7"
      },
      "execution_count": 17,
      "outputs": [
        {
          "output_type": "stream",
          "name": "stdout",
          "text": [
            "Model: \"sequential\"\n",
            "_________________________________________________________________\n",
            " Layer (type)                Output Shape              Param #   \n",
            "=================================================================\n",
            " conv2d (Conv2D)             (None, 28, 28, 6)         60        \n",
            "                                                                 \n",
            " max_pooling2d (MaxPooling2  (None, 14, 14, 6)         0         \n",
            " D)                                                              \n",
            "                                                                 \n",
            " conv2d_1 (Conv2D)           (None, 14, 14, 32)        800       \n",
            "                                                                 \n",
            " max_pooling2d_1 (MaxPoolin  (None, 7, 7, 32)          0         \n",
            " g2D)                                                            \n",
            "                                                                 \n",
            " conv2d_2 (Conv2D)           (None, 7, 7, 80)          10320     \n",
            "                                                                 \n",
            " max_pooling2d_2 (MaxPoolin  (None, 3, 3, 80)          0         \n",
            " g2D)                                                            \n",
            "                                                                 \n",
            " conv2d_3 (Conv2D)           (None, 3, 3, 120)         38520     \n",
            "                                                                 \n",
            " max_pooling2d_3 (MaxPoolin  (None, 1, 1, 120)         0         \n",
            " g2D)                                                            \n",
            "                                                                 \n",
            " flatten (Flatten)           (None, 120)               0         \n",
            "                                                                 \n",
            " dense (Dense)               (None, 64)                7744      \n",
            "                                                                 \n",
            " dense_1 (Dense)             (None, 10)                650       \n",
            "                                                                 \n",
            "=================================================================\n",
            "Total params: 58094 (226.93 KB)\n",
            "Trainable params: 58094 (226.93 KB)\n",
            "Non-trainable params: 0 (0.00 Byte)\n",
            "_________________________________________________________________\n"
          ]
        }
      ]
    },
    {
      "cell_type": "markdown",
      "source": [
        "**Training the CNN**"
      ],
      "metadata": {
        "id": "ovVNcCuzZ6hE"
      }
    },
    {
      "cell_type": "code",
      "source": [
        "#training model\n",
        "model.fit(x_train,y_train,validation_split=0.2, epochs=15, batch_size=64, verbose=1)"
      ],
      "metadata": {
        "colab": {
          "base_uri": "https://localhost:8080/"
        },
        "id": "jUpFdmpYYlUi",
        "outputId": "767c520f-c3c5-46be-b003-959cab9497a9"
      },
      "execution_count": 18,
      "outputs": [
        {
          "output_type": "stream",
          "name": "stdout",
          "text": [
            "Epoch 1/15\n",
            "750/750 [==============================] - 10s 6ms/step - loss: 1.8971 - accuracy: 0.4403 - val_loss: 1.0140 - val_accuracy: 0.6482\n",
            "Epoch 2/15\n",
            "750/750 [==============================] - 4s 6ms/step - loss: 0.4880 - accuracy: 0.8443 - val_loss: 0.2656 - val_accuracy: 0.9141\n",
            "Epoch 3/15\n",
            "750/750 [==============================] - 4s 6ms/step - loss: 0.2524 - accuracy: 0.9203 - val_loss: 0.1809 - val_accuracy: 0.9432\n",
            "Epoch 4/15\n",
            "750/750 [==============================] - 4s 5ms/step - loss: 0.1803 - accuracy: 0.9435 - val_loss: 0.1599 - val_accuracy: 0.9467\n",
            "Epoch 5/15\n",
            "750/750 [==============================] - 4s 5ms/step - loss: 0.1419 - accuracy: 0.9561 - val_loss: 0.1186 - val_accuracy: 0.9639\n",
            "Epoch 6/15\n",
            "750/750 [==============================] - 3s 4ms/step - loss: 0.1187 - accuracy: 0.9633 - val_loss: 0.1323 - val_accuracy: 0.9570\n",
            "Epoch 7/15\n",
            "750/750 [==============================] - 3s 4ms/step - loss: 0.1011 - accuracy: 0.9676 - val_loss: 0.0945 - val_accuracy: 0.9708\n",
            "Epoch 8/15\n",
            "750/750 [==============================] - 4s 6ms/step - loss: 0.0905 - accuracy: 0.9715 - val_loss: 0.1085 - val_accuracy: 0.9643\n",
            "Epoch 9/15\n",
            "750/750 [==============================] - 4s 5ms/step - loss: 0.0808 - accuracy: 0.9748 - val_loss: 0.0950 - val_accuracy: 0.9681\n",
            "Epoch 10/15\n",
            "750/750 [==============================] - 4s 5ms/step - loss: 0.0737 - accuracy: 0.9770 - val_loss: 0.0785 - val_accuracy: 0.9756\n",
            "Epoch 11/15\n",
            "750/750 [==============================] - 4s 6ms/step - loss: 0.0668 - accuracy: 0.9789 - val_loss: 0.0800 - val_accuracy: 0.9756\n",
            "Epoch 12/15\n",
            "750/750 [==============================] - 4s 5ms/step - loss: 0.0646 - accuracy: 0.9801 - val_loss: 0.0759 - val_accuracy: 0.9751\n",
            "Epoch 13/15\n",
            "750/750 [==============================] - 4s 5ms/step - loss: 0.0585 - accuracy: 0.9819 - val_loss: 0.0682 - val_accuracy: 0.9786\n",
            "Epoch 14/15\n",
            "750/750 [==============================] - 4s 5ms/step - loss: 0.0543 - accuracy: 0.9833 - val_loss: 0.0825 - val_accuracy: 0.9742\n",
            "Epoch 15/15\n",
            "750/750 [==============================] - 5s 6ms/step - loss: 0.0517 - accuracy: 0.9834 - val_loss: 0.0623 - val_accuracy: 0.9808\n"
          ]
        },
        {
          "output_type": "execute_result",
          "data": {
            "text/plain": [
              "<keras.src.callbacks.History at 0x77fd3044cf40>"
            ]
          },
          "metadata": {},
          "execution_count": 18
        }
      ]
    },
    {
      "cell_type": "markdown",
      "source": [
        "**Testing model**"
      ],
      "metadata": {
        "id": "pIjZlr5TdNoD"
      }
    },
    {
      "cell_type": "code",
      "source": [
        "# import libraries\n",
        "from sklearn.metrics import accuracy_score\n",
        "import numpy as np\n",
        "import matplotlib.pyplot as plt\n",
        "\n",
        "# predict probabilities set train model\n",
        "y_pred_probs = model.predict(x_test, verbose=0)\n",
        "y_pred = np.where(y_pred_probs > 0.5 ,1,0)\n",
        "\n",
        "\n",
        "# calculate & test accuracy using predict & true label\n",
        "test_accuracy = accuracy_score(y_test,y_pred)\n",
        "print('\\n test accuracy:{}'.format(test_accuracy))"
      ],
      "metadata": {
        "colab": {
          "base_uri": "https://localhost:8080/"
        },
        "id": "hMwYqiz7cj8g",
        "outputId": "cc328b97-c633-4646-d48f-ba4324fcc4e5"
      },
      "execution_count": 19,
      "outputs": [
        {
          "output_type": "stream",
          "name": "stdout",
          "text": [
            "\n",
            " test accuracy:0.9814\n"
          ]
        }
      ]
    },
    {
      "cell_type": "code",
      "source": [
        "#define a mask selecting a range of indices(20 ,49)\n",
        "mask =range(20,50)\n",
        "\n",
        "#test set visualization\n",
        "x_valid=x_train[0:20]\n",
        "actual_labels =y_test[0:20]\n",
        "\n",
        "#predict probabilities for validation sample\n",
        "y_pred_probs_valid=model.predict(x_valid)\n",
        "y_pred_valid=np.where(y_pred_probs_valid > 0.5 ,1,0)\n"
      ],
      "metadata": {
        "colab": {
          "base_uri": "https://localhost:8080/"
        },
        "id": "3ejUdexxgZ_O",
        "outputId": "2034e333-c9de-44cf-c418-f0b065e4a346"
      },
      "execution_count": 21,
      "outputs": [
        {
          "output_type": "stream",
          "name": "stdout",
          "text": [
            "1/1 [==============================] - 0s 19ms/step\n"
          ]
        }
      ]
    },
    {
      "cell_type": "code",
      "source": [
        "n =len(x_valid)\n",
        "plt.figure(figsize=(20,4))\n",
        "for i in range(n):\n",
        " ax=plt.subplot(2, n, i+1)\n",
        " plt.imshow(x_valid[i].reshape(28,28))\n",
        "\n",
        "\n",
        " plt.gray()\n",
        " ax.get_xaxis().set_visible(False)\n",
        " ax.get_yaxis().set_visible(False)\n",
        "\n",
        "\n",
        " predicted_digit=np.argmax(y_pred_probs_valid[i])\n",
        " ax =plt.subplot(2,n,i+1+n)\n",
        " plt.text(0.5,0.5,str(predicted_digit), fontsize=12, ha='center' , va='center')\n",
        "\n",
        "\n",
        "plt.show()\n",
        "plt.close()\n",
        "\n",
        "\n",
        "\n",
        "\n",
        "\n",
        "\n"
      ],
      "metadata": {
        "id": "sE2a_FlkpJJZ",
        "colab": {
          "base_uri": "https://localhost:8080/",
          "height": 266
        },
        "outputId": "8ed5d347-2525-48b6-9e0e-5d1cd4743845"
      },
      "execution_count": 22,
      "outputs": [
        {
          "output_type": "display_data",
          "data": {
            "text/plain": [
              "<Figure size 2000x400 with 40 Axes>"
            ],
            "image/png": "[encoded data removed]"
          },
          "metadata": {}
        }
      ]
    }
  ]
}